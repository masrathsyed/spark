{
  "nbformat": 4,
  "nbformat_minor": 0,
  "metadata": {
    "colab": {
      "provenance": [],
      "collapsed_sections": [],
      "authorship_tag": "ABX9TyNQhtlKnBhhoFM9IH/siX7n",
      "include_colab_link": true
    },
    "kernelspec": {
      "name": "python3",
      "display_name": "Python 3"
    },
    "language_info": {
      "name": "python"
    }
  },
  "cells": [
    {
      "cell_type": "markdown",
      "metadata": {
        "id": "view-in-github",
        "colab_type": "text"
      },
      "source": [
        "<a href=\"https://colab.research.google.com/github/masrathsyed/spark/blob/main/Copy_of_MajorProject1_2.ipynb\" target=\"_parent\"><img src=\"https://colab.research.google.com/assets/colab-badge.svg\" alt=\"Open In Colab\"/></a>"
      ]
    },
    {
      "cell_type": "code",
      "execution_count": null,
      "metadata": {
        "id": "EviCAlfP9rar"
      },
      "outputs": [],
      "source": [
        "#we are creating a STREAMLIT WEB APPLICATION"
      ]
    },
    {
      "cell_type": "code",
      "source": [
        "#deployment are of 2 types\n",
        "#1.temporary deployment\n",
        "#2.permanent deployment"
      ],
      "metadata": {
        "id": "5sinm5NHn0_M"
      },
      "execution_count": null,
      "outputs": []
    },
    {
      "cell_type": "code",
      "source": [
        "#temporary deployment - local host"
      ],
      "metadata": {
        "id": "iaYsTj7Zn47r"
      },
      "execution_count": null,
      "outputs": []
    },
    {
      "cell_type": "code",
      "source": [
        "!pip install streamlit --quiet #installing streamlit library"
      ],
      "metadata": {
        "colab": {
          "base_uri": "https://localhost:8080/"
        },
        "id": "IlNcZ-iEn6i6",
        "outputId": "bacd10b6-69e2-4e66-bb3d-40edcce888f8"
      },
      "execution_count": null,
      "outputs": [
        {
          "output_type": "stream",
          "name": "stdout",
          "text": [
            "\u001b[K     |████████████████████████████████| 9.1 MB 4.2 MB/s \n",
            "\u001b[K     |████████████████████████████████| 4.7 MB 35.6 MB/s \n",
            "\u001b[K     |████████████████████████████████| 181 kB 59.0 MB/s \n",
            "\u001b[K     |████████████████████████████████| 78 kB 5.7 MB/s \n",
            "\u001b[K     |████████████████████████████████| 164 kB 51.5 MB/s \n",
            "\u001b[K     |████████████████████████████████| 235 kB 58.4 MB/s \n",
            "\u001b[K     |████████████████████████████████| 63 kB 1.4 MB/s \n",
            "\u001b[K     |████████████████████████████████| 51 kB 5.8 MB/s \n",
            "\u001b[?25h  Building wheel for validators (setup.py) ... \u001b[?25l\u001b[?25hdone\n"
          ]
        }
      ]
    },
    {
      "cell_type": "code",
      "source": [
        "%%writefile aap.py\n",
        "#%%writefile is amagic command to create aap.py file\n",
        "import streamlit as st\n",
        "import joblib\n",
        "model = joblib.load('fake--real')\n",
        "st.title('FAKE-REAL NEWS')#creates a title in web app\n",
        "ip = st.text_input('Enter the text')#creates a text  box in web app\n",
        "op = model.predict([ip])\n",
        "if st.button('Predict'):\n",
        "   st.title(op[0])#create a button with name Predict\n",
        "   #st.title(op[0])#the output will be displayed as a title"
      ],
      "metadata": {
        "colab": {
          "base_uri": "https://localhost:8080/"
        },
        "id": "vzrAVoWboDDB",
        "outputId": "b48bb8ad-ebd9-40cb-fea0-adf98ddfac75"
      },
      "execution_count": null,
      "outputs": [
        {
          "output_type": "stream",
          "name": "stdout",
          "text": [
            "Overwriting aap.py\n"
          ]
        }
      ]
    },
    {
      "cell_type": "code",
      "source": [
        "#temporary deployment part\n",
        "!streamlit run aap.py & npx localtunnel --port 8501"
      ],
      "metadata": {
        "colab": {
          "base_uri": "https://localhost:8080/"
        },
        "id": "voleRsGCo6uL",
        "outputId": "220e9d38-837d-43a2-d912-9725fa87cd93"
      },
      "execution_count": null,
      "outputs": [
        {
          "output_type": "stream",
          "name": "stdout",
          "text": [
            "2022-09-18 12:47:43.890 INFO    numexpr.utils: NumExpr defaulting to 2 threads.\n",
            "\u001b[0m\n",
            "\u001b[34m\u001b[1m  You can now view your Streamlit app in your browser.\u001b[0m\n",
            "\u001b[0m\n",
            "\u001b[34m  Network URL: \u001b[0m\u001b[1mhttp://172.28.0.2:8501\u001b[0m\n",
            "\u001b[34m  External URL: \u001b[0m\u001b[1mhttp://34.73.49.87:8501\u001b[0m\n",
            "\u001b[0m\n",
            "\u001b[K\u001b[?25hnpx: installed 22 in 4.86s\n",
            "your url is: https://plenty-knives-fry-34-73-49-87.loca.lt\n",
            "\u001b[34m  Stopping...\u001b[0m\n",
            "^C\n"
          ]
        }
      ]
    }
  ]
}