{
  "nbformat": 4,
  "nbformat_minor": 0,
  "metadata": {
    "colab": {
      "provenance": [],
      "collapsed_sections": [],
      "authorship_tag": "ABX9TyMVI2C8j6+sC6FmuZElCQBM",
      "include_colab_link": true
    },
    "kernelspec": {
      "name": "python3",
      "display_name": "Python 3"
    },
    "language_info": {
      "name": "python"
    }
  },
  "cells": [
    {
      "cell_type": "markdown",
      "metadata": {
        "id": "view-in-github",
        "colab_type": "text"
      },
      "source": [
        "<a href=\"https://colab.research.google.com/github/masrathsyed/spark/blob/main/MajorProject2.ipynb\" target=\"_parent\"><img src=\"https://colab.research.google.com/assets/colab-badge.svg\" alt=\"Open In Colab\"/></a>"
      ]
    },
    {
      "cell_type": "code",
      "execution_count": null,
      "metadata": {
        "id": "QlTydfzW41Pf"
      },
      "outputs": [],
      "source": [
        "#unsupervised learning- k means clustering"
      ]
    },
    {
      "cell_type": "code",
      "source": [
        "#1.take data and create dataframe\n",
        "import pandas as pd\n",
        "df = pd.read_csv('https://raw.githubusercontent.com/ameenmanna8824/DATASETS/main/CarPrice_Assignment.csv')\n",
        "df"
      ],
      "metadata": {
        "colab": {
          "base_uri": "https://localhost:8080/",
          "height": 557
        },
        "id": "cK4DUGFmY9O4",
        "outputId": "5024ab15-e74d-4ac4-ff1a-ee21c73fe0da"
      },
      "execution_count": null,
      "outputs": [
        {
          "output_type": "execute_result",
          "data": {
            "text/plain": [
              "     car_ID  symboling                   CarName fueltype aspiration  \\\n",
              "0         1          3        alfa-romero giulia      gas        std   \n",
              "1         2          3       alfa-romero stelvio      gas        std   \n",
              "2         3          1  alfa-romero Quadrifoglio      gas        std   \n",
              "3         4          2               audi 100 ls      gas        std   \n",
              "4         5          2                audi 100ls      gas        std   \n",
              "..      ...        ...                       ...      ...        ...   \n",
              "200     201         -1           volvo 145e (sw)      gas        std   \n",
              "201     202         -1               volvo 144ea      gas      turbo   \n",
              "202     203         -1               volvo 244dl      gas        std   \n",
              "203     204         -1                 volvo 246   diesel      turbo   \n",
              "204     205         -1               volvo 264gl      gas      turbo   \n",
              "\n",
              "    doornumber      carbody drivewheel enginelocation  wheelbase  ...  \\\n",
              "0          two  convertible        rwd          front       88.6  ...   \n",
              "1          two  convertible        rwd          front       88.6  ...   \n",
              "2          two    hatchback        rwd          front       94.5  ...   \n",
              "3         four        sedan        fwd          front       99.8  ...   \n",
              "4         four        sedan        4wd          front       99.4  ...   \n",
              "..         ...          ...        ...            ...        ...  ...   \n",
              "200       four        sedan        rwd          front      109.1  ...   \n",
              "201       four        sedan        rwd          front      109.1  ...   \n",
              "202       four        sedan        rwd          front      109.1  ...   \n",
              "203       four        sedan        rwd          front      109.1  ...   \n",
              "204       four        sedan        rwd          front      109.1  ...   \n",
              "\n",
              "     enginesize  fuelsystem  boreratio  stroke compressionratio horsepower  \\\n",
              "0           130        mpfi       3.47    2.68              9.0        111   \n",
              "1           130        mpfi       3.47    2.68              9.0        111   \n",
              "2           152        mpfi       2.68    3.47              9.0        154   \n",
              "3           109        mpfi       3.19    3.40             10.0        102   \n",
              "4           136        mpfi       3.19    3.40              8.0        115   \n",
              "..          ...         ...        ...     ...              ...        ...   \n",
              "200         141        mpfi       3.78    3.15              9.5        114   \n",
              "201         141        mpfi       3.78    3.15              8.7        160   \n",
              "202         173        mpfi       3.58    2.87              8.8        134   \n",
              "203         145         idi       3.01    3.40             23.0        106   \n",
              "204         141        mpfi       3.78    3.15              9.5        114   \n",
              "\n",
              "     peakrpm citympg  highwaympg    price  \n",
              "0       5000      21          27  13495.0  \n",
              "1       5000      21          27  16500.0  \n",
              "2       5000      19          26  16500.0  \n",
              "3       5500      24          30  13950.0  \n",
              "4       5500      18          22  17450.0  \n",
              "..       ...     ...         ...      ...  \n",
              "200     5400      23          28  16845.0  \n",
              "201     5300      19          25  19045.0  \n",
              "202     5500      18          23  21485.0  \n",
              "203     4800      26          27  22470.0  \n",
              "204     5400      19          25  22625.0  \n",
              "\n",
              "[205 rows x 26 columns]"
            ],
            "text/html": [
              "\n",
              "  <div id=\"df-565ec070-e4c5-4363-b3b5-ca15b2d06bee\">\n",
              "    <div class=\"colab-df-container\">\n",
              "      <div>\n",
              "<style scoped>\n",
              "    .dataframe tbody tr th:only-of-type {\n",
              "        vertical-align: middle;\n",
              "    }\n",
              "\n",
              "    .dataframe tbody tr th {\n",
              "        vertical-align: top;\n",
              "    }\n",
              "\n",
              "    .dataframe thead th {\n",
              "        text-align: right;\n",
              "    }\n",
              "</style>\n",
              "<table border=\"1\" class=\"dataframe\">\n",
              "  <thead>\n",
              "    <tr style=\"text-align: right;\">\n",
              "      <th></th>\n",
              "      <th>car_ID</th>\n",
              "      <th>symboling</th>\n",
              "      <th>CarName</th>\n",
              "      <th>fueltype</th>\n",
              "      <th>aspiration</th>\n",
              "      <th>doornumber</th>\n",
              "      <th>carbody</th>\n",
              "      <th>drivewheel</th>\n",
              "      <th>enginelocation</th>\n",
              "      <th>wheelbase</th>\n",
              "      <th>...</th>\n",
              "      <th>enginesize</th>\n",
              "      <th>fuelsystem</th>\n",
              "      <th>boreratio</th>\n",
              "      <th>stroke</th>\n",
              "      <th>compressionratio</th>\n",
              "      <th>horsepower</th>\n",
              "      <th>peakrpm</th>\n",
              "      <th>citympg</th>\n",
              "      <th>highwaympg</th>\n",
              "      <th>price</th>\n",
              "    </tr>\n",
              "  </thead>\n",
              "  <tbody>\n",
              "    <tr>\n",
              "      <th>0</th>\n",
              "      <td>1</td>\n",
              "      <td>3</td>\n",
              "      <td>alfa-romero giulia</td>\n",
              "      <td>gas</td>\n",
              "      <td>std</td>\n",
              "      <td>two</td>\n",
              "      <td>convertible</td>\n",
              "      <td>rwd</td>\n",
              "      <td>front</td>\n",
              "      <td>88.6</td>\n",
              "      <td>...</td>\n",
              "      <td>130</td>\n",
              "      <td>mpfi</td>\n",
              "      <td>3.47</td>\n",
              "      <td>2.68</td>\n",
              "      <td>9.0</td>\n",
              "      <td>111</td>\n",
              "      <td>5000</td>\n",
              "      <td>21</td>\n",
              "      <td>27</td>\n",
              "      <td>13495.0</td>\n",
              "    </tr>\n",
              "    <tr>\n",
              "      <th>1</th>\n",
              "      <td>2</td>\n",
              "      <td>3</td>\n",
              "      <td>alfa-romero stelvio</td>\n",
              "      <td>gas</td>\n",
              "      <td>std</td>\n",
              "      <td>two</td>\n",
              "      <td>convertible</td>\n",
              "      <td>rwd</td>\n",
              "      <td>front</td>\n",
              "      <td>88.6</td>\n",
              "      <td>...</td>\n",
              "      <td>130</td>\n",
              "      <td>mpfi</td>\n",
              "      <td>3.47</td>\n",
              "      <td>2.68</td>\n",
              "      <td>9.0</td>\n",
              "      <td>111</td>\n",
              "      <td>5000</td>\n",
              "      <td>21</td>\n",
              "      <td>27</td>\n",
              "      <td>16500.0</td>\n",
              "    </tr>\n",
              "    <tr>\n",
              "      <th>2</th>\n",
              "      <td>3</td>\n",
              "      <td>1</td>\n",
              "      <td>alfa-romero Quadrifoglio</td>\n",
              "      <td>gas</td>\n",
              "      <td>std</td>\n",
              "      <td>two</td>\n",
              "      <td>hatchback</td>\n",
              "      <td>rwd</td>\n",
              "      <td>front</td>\n",
              "      <td>94.5</td>\n",
              "      <td>...</td>\n",
              "      <td>152</td>\n",
              "      <td>mpfi</td>\n",
              "      <td>2.68</td>\n",
              "      <td>3.47</td>\n",
              "      <td>9.0</td>\n",
              "      <td>154</td>\n",
              "      <td>5000</td>\n",
              "      <td>19</td>\n",
              "      <td>26</td>\n",
              "      <td>16500.0</td>\n",
              "    </tr>\n",
              "    <tr>\n",
              "      <th>3</th>\n",
              "      <td>4</td>\n",
              "      <td>2</td>\n",
              "      <td>audi 100 ls</td>\n",
              "      <td>gas</td>\n",
              "      <td>std</td>\n",
              "      <td>four</td>\n",
              "      <td>sedan</td>\n",
              "      <td>fwd</td>\n",
              "      <td>front</td>\n",
              "      <td>99.8</td>\n",
              "      <td>...</td>\n",
              "      <td>109</td>\n",
              "      <td>mpfi</td>\n",
              "      <td>3.19</td>\n",
              "      <td>3.40</td>\n",
              "      <td>10.0</td>\n",
              "      <td>102</td>\n",
              "      <td>5500</td>\n",
              "      <td>24</td>\n",
              "      <td>30</td>\n",
              "      <td>13950.0</td>\n",
              "    </tr>\n",
              "    <tr>\n",
              "      <th>4</th>\n",
              "      <td>5</td>\n",
              "      <td>2</td>\n",
              "      <td>audi 100ls</td>\n",
              "      <td>gas</td>\n",
              "      <td>std</td>\n",
              "      <td>four</td>\n",
              "      <td>sedan</td>\n",
              "      <td>4wd</td>\n",
              "      <td>front</td>\n",
              "      <td>99.4</td>\n",
              "      <td>...</td>\n",
              "      <td>136</td>\n",
              "      <td>mpfi</td>\n",
              "      <td>3.19</td>\n",
              "      <td>3.40</td>\n",
              "      <td>8.0</td>\n",
              "      <td>115</td>\n",
              "      <td>5500</td>\n",
              "      <td>18</td>\n",
              "      <td>22</td>\n",
              "      <td>17450.0</td>\n",
              "    </tr>\n",
              "    <tr>\n",
              "      <th>...</th>\n",
              "      <td>...</td>\n",
              "      <td>...</td>\n",
              "      <td>...</td>\n",
              "      <td>...</td>\n",
              "      <td>...</td>\n",
              "      <td>...</td>\n",
              "      <td>...</td>\n",
              "      <td>...</td>\n",
              "      <td>...</td>\n",
              "      <td>...</td>\n",
              "      <td>...</td>\n",
              "      <td>...</td>\n",
              "      <td>...</td>\n",
              "      <td>...</td>\n",
              "      <td>...</td>\n",
              "      <td>...</td>\n",
              "      <td>...</td>\n",
              "      <td>...</td>\n",
              "      <td>...</td>\n",
              "      <td>...</td>\n",
              "      <td>...</td>\n",
              "    </tr>\n",
              "    <tr>\n",
              "      <th>200</th>\n",
              "      <td>201</td>\n",
              "      <td>-1</td>\n",
              "      <td>volvo 145e (sw)</td>\n",
              "      <td>gas</td>\n",
              "      <td>std</td>\n",
              "      <td>four</td>\n",
              "      <td>sedan</td>\n",
              "      <td>rwd</td>\n",
              "      <td>front</td>\n",
              "      <td>109.1</td>\n",
              "      <td>...</td>\n",
              "      <td>141</td>\n",
              "      <td>mpfi</td>\n",
              "      <td>3.78</td>\n",
              "      <td>3.15</td>\n",
              "      <td>9.5</td>\n",
              "      <td>114</td>\n",
              "      <td>5400</td>\n",
              "      <td>23</td>\n",
              "      <td>28</td>\n",
              "      <td>16845.0</td>\n",
              "    </tr>\n",
              "    <tr>\n",
              "      <th>201</th>\n",
              "      <td>202</td>\n",
              "      <td>-1</td>\n",
              "      <td>volvo 144ea</td>\n",
              "      <td>gas</td>\n",
              "      <td>turbo</td>\n",
              "      <td>four</td>\n",
              "      <td>sedan</td>\n",
              "      <td>rwd</td>\n",
              "      <td>front</td>\n",
              "      <td>109.1</td>\n",
              "      <td>...</td>\n",
              "      <td>141</td>\n",
              "      <td>mpfi</td>\n",
              "      <td>3.78</td>\n",
              "      <td>3.15</td>\n",
              "      <td>8.7</td>\n",
              "      <td>160</td>\n",
              "      <td>5300</td>\n",
              "      <td>19</td>\n",
              "      <td>25</td>\n",
              "      <td>19045.0</td>\n",
              "    </tr>\n",
              "    <tr>\n",
              "      <th>202</th>\n",
              "      <td>203</td>\n",
              "      <td>-1</td>\n",
              "      <td>volvo 244dl</td>\n",
              "      <td>gas</td>\n",
              "      <td>std</td>\n",
              "      <td>four</td>\n",
              "      <td>sedan</td>\n",
              "      <td>rwd</td>\n",
              "      <td>front</td>\n",
              "      <td>109.1</td>\n",
              "      <td>...</td>\n",
              "      <td>173</td>\n",
              "      <td>mpfi</td>\n",
              "      <td>3.58</td>\n",
              "      <td>2.87</td>\n",
              "      <td>8.8</td>\n",
              "      <td>134</td>\n",
              "      <td>5500</td>\n",
              "      <td>18</td>\n",
              "      <td>23</td>\n",
              "      <td>21485.0</td>\n",
              "    </tr>\n",
              "    <tr>\n",
              "      <th>203</th>\n",
              "      <td>204</td>\n",
              "      <td>-1</td>\n",
              "      <td>volvo 246</td>\n",
              "      <td>diesel</td>\n",
              "      <td>turbo</td>\n",
              "      <td>four</td>\n",
              "      <td>sedan</td>\n",
              "      <td>rwd</td>\n",
              "      <td>front</td>\n",
              "      <td>109.1</td>\n",
              "      <td>...</td>\n",
              "      <td>145</td>\n",
              "      <td>idi</td>\n",
              "      <td>3.01</td>\n",
              "      <td>3.40</td>\n",
              "      <td>23.0</td>\n",
              "      <td>106</td>\n",
              "      <td>4800</td>\n",
              "      <td>26</td>\n",
              "      <td>27</td>\n",
              "      <td>22470.0</td>\n",
              "    </tr>\n",
              "    <tr>\n",
              "      <th>204</th>\n",
              "      <td>205</td>\n",
              "      <td>-1</td>\n",
              "      <td>volvo 264gl</td>\n",
              "      <td>gas</td>\n",
              "      <td>turbo</td>\n",
              "      <td>four</td>\n",
              "      <td>sedan</td>\n",
              "      <td>rwd</td>\n",
              "      <td>front</td>\n",
              "      <td>109.1</td>\n",
              "      <td>...</td>\n",
              "      <td>141</td>\n",
              "      <td>mpfi</td>\n",
              "      <td>3.78</td>\n",
              "      <td>3.15</td>\n",
              "      <td>9.5</td>\n",
              "      <td>114</td>\n",
              "      <td>5400</td>\n",
              "      <td>19</td>\n",
              "      <td>25</td>\n",
              "      <td>22625.0</td>\n",
              "    </tr>\n",
              "  </tbody>\n",
              "</table>\n",
              "<p>205 rows × 26 columns</p>\n",
              "</div>\n",
              "      <button class=\"colab-df-convert\" onclick=\"convertToInteractive('df-565ec070-e4c5-4363-b3b5-ca15b2d06bee')\"\n",
              "              title=\"Convert this dataframe to an interactive table.\"\n",
              "              style=\"display:none;\">\n",
              "        \n",
              "  <svg xmlns=\"http://www.w3.org/2000/svg\" height=\"24px\"viewBox=\"0 0 24 24\"\n",
              "       width=\"24px\">\n",
              "    <path d=\"M0 0h24v24H0V0z\" fill=\"none\"/>\n",
              "    <path d=\"M18.56 5.44l.94 2.06.94-2.06 2.06-.94-2.06-.94-.94-2.06-.94 2.06-2.06.94zm-11 1L8.5 8.5l.94-2.06 2.06-.94-2.06-.94L8.5 2.5l-.94 2.06-2.06.94zm10 10l.94 2.06.94-2.06 2.06-.94-2.06-.94-.94-2.06-.94 2.06-2.06.94z\"/><path d=\"M17.41 7.96l-1.37-1.37c-.4-.4-.92-.59-1.43-.59-.52 0-1.04.2-1.43.59L10.3 9.45l-7.72 7.72c-.78.78-.78 2.05 0 2.83L4 21.41c.39.39.9.59 1.41.59.51 0 1.02-.2 1.41-.59l7.78-7.78 2.81-2.81c.8-.78.8-2.07 0-2.86zM5.41 20L4 18.59l7.72-7.72 1.47 1.35L5.41 20z\"/>\n",
              "  </svg>\n",
              "      </button>\n",
              "      \n",
              "  <style>\n",
              "    .colab-df-container {\n",
              "      display:flex;\n",
              "      flex-wrap:wrap;\n",
              "      gap: 12px;\n",
              "    }\n",
              "\n",
              "    .colab-df-convert {\n",
              "      background-color: #E8F0FE;\n",
              "      border: none;\n",
              "      border-radius: 50%;\n",
              "      cursor: pointer;\n",
              "      display: none;\n",
              "      fill: #1967D2;\n",
              "      height: 32px;\n",
              "      padding: 0 0 0 0;\n",
              "      width: 32px;\n",
              "    }\n",
              "\n",
              "    .colab-df-convert:hover {\n",
              "      background-color: #E2EBFA;\n",
              "      box-shadow: 0px 1px 2px rgba(60, 64, 67, 0.3), 0px 1px 3px 1px rgba(60, 64, 67, 0.15);\n",
              "      fill: #174EA6;\n",
              "    }\n",
              "\n",
              "    [theme=dark] .colab-df-convert {\n",
              "      background-color: #3B4455;\n",
              "      fill: #D2E3FC;\n",
              "    }\n",
              "\n",
              "    [theme=dark] .colab-df-convert:hover {\n",
              "      background-color: #434B5C;\n",
              "      box-shadow: 0px 1px 3px 1px rgba(0, 0, 0, 0.15);\n",
              "      filter: drop-shadow(0px 1px 2px rgba(0, 0, 0, 0.3));\n",
              "      fill: #FFFFFF;\n",
              "    }\n",
              "  </style>\n",
              "\n",
              "      <script>\n",
              "        const buttonEl =\n",
              "          document.querySelector('#df-565ec070-e4c5-4363-b3b5-ca15b2d06bee button.colab-df-convert');\n",
              "        buttonEl.style.display =\n",
              "          google.colab.kernel.accessAllowed ? 'block' : 'none';\n",
              "\n",
              "        async function convertToInteractive(key) {\n",
              "          const element = document.querySelector('#df-565ec070-e4c5-4363-b3b5-ca15b2d06bee');\n",
              "          const dataTable =\n",
              "            await google.colab.kernel.invokeFunction('convertToInteractive',\n",
              "                                                     [key], {});\n",
              "          if (!dataTable) return;\n",
              "\n",
              "          const docLinkHtml = 'Like what you see? Visit the ' +\n",
              "            '<a target=\"_blank\" href=https://colab.research.google.com/notebooks/data_table.ipynb>data table notebook</a>'\n",
              "            + ' to learn more about interactive tables.';\n",
              "          element.innerHTML = '';\n",
              "          dataTable['output_type'] = 'display_data';\n",
              "          await google.colab.output.renderOutput(dataTable, element);\n",
              "          const docLink = document.createElement('div');\n",
              "          docLink.innerHTML = docLinkHtml;\n",
              "          element.appendChild(docLink);\n",
              "        }\n",
              "      </script>\n",
              "    </div>\n",
              "  </div>\n",
              "  "
            ]
          },
          "metadata": {},
          "execution_count": 20
        }
      ]
    },
    {
      "cell_type": "code",
      "source": [
        "df.shape"
      ],
      "metadata": {
        "colab": {
          "base_uri": "https://localhost:8080/"
        },
        "id": "4_LKk-cyarq-",
        "outputId": "b3551526-c162-4011-a386-d4637e6947fc"
      },
      "execution_count": null,
      "outputs": [
        {
          "output_type": "execute_result",
          "data": {
            "text/plain": [
              "(205, 26)"
            ]
          },
          "metadata": {},
          "execution_count": 21
        }
      ]
    },
    {
      "cell_type": "code",
      "source": [
        "df.info()"
      ],
      "metadata": {
        "colab": {
          "base_uri": "https://localhost:8080/"
        },
        "id": "1AdJ3BkcbFk2",
        "outputId": "7afaceba-fa27-432e-e98b-faf3d2bf48a3"
      },
      "execution_count": null,
      "outputs": [
        {
          "output_type": "stream",
          "name": "stdout",
          "text": [
            "<class 'pandas.core.frame.DataFrame'>\n",
            "RangeIndex: 205 entries, 0 to 204\n",
            "Data columns (total 26 columns):\n",
            " #   Column            Non-Null Count  Dtype  \n",
            "---  ------            --------------  -----  \n",
            " 0   car_ID            205 non-null    int64  \n",
            " 1   symboling         205 non-null    int64  \n",
            " 2   CarName           205 non-null    object \n",
            " 3   fueltype          205 non-null    object \n",
            " 4   aspiration        205 non-null    object \n",
            " 5   doornumber        205 non-null    object \n",
            " 6   carbody           205 non-null    object \n",
            " 7   drivewheel        205 non-null    object \n",
            " 8   enginelocation    205 non-null    object \n",
            " 9   wheelbase         205 non-null    float64\n",
            " 10  carlength         205 non-null    float64\n",
            " 11  carwidth          205 non-null    float64\n",
            " 12  carheight         205 non-null    float64\n",
            " 13  curbweight        205 non-null    int64  \n",
            " 14  enginetype        205 non-null    object \n",
            " 15  cylindernumber    205 non-null    object \n",
            " 16  enginesize        205 non-null    int64  \n",
            " 17  fuelsystem        205 non-null    object \n",
            " 18  boreratio         205 non-null    float64\n",
            " 19  stroke            205 non-null    float64\n",
            " 20  compressionratio  205 non-null    float64\n",
            " 21  horsepower        205 non-null    int64  \n",
            " 22  peakrpm           205 non-null    int64  \n",
            " 23  citympg           205 non-null    int64  \n",
            " 24  highwaympg        205 non-null    int64  \n",
            " 25  price             205 non-null    float64\n",
            "dtypes: float64(8), int64(8), object(10)\n",
            "memory usage: 41.8+ KB\n"
          ]
        }
      ]
    },
    {
      "cell_type": "code",
      "source": [
        "#input - carheight and carweight"
      ],
      "metadata": {
        "id": "Vw0kJwJlbRGy"
      },
      "execution_count": null,
      "outputs": []
    },
    {
      "cell_type": "code",
      "source": [
        "#divide the data  into i/p\n",
        "x = df.iloc[:,21:23].values\n",
        "x"
      ],
      "metadata": {
        "colab": {
          "base_uri": "https://localhost:8080/"
        },
        "id": "LuHIGe65blhi",
        "outputId": "2bad76f3-f744-4fb9-a595-a6faa025448f"
      },
      "execution_count": null,
      "outputs": [
        {
          "output_type": "execute_result",
          "data": {
            "text/plain": [
              "array([[ 111, 5000],\n",
              "       [ 111, 5000],\n",
              "       [ 154, 5000],\n",
              "       [ 102, 5500],\n",
              "       [ 115, 5500],\n",
              "       [ 110, 5500],\n",
              "       [ 110, 5500],\n",
              "       [ 110, 5500],\n",
              "       [ 140, 5500],\n",
              "       [ 160, 5500],\n",
              "       [ 101, 5800],\n",
              "       [ 101, 5800],\n",
              "       [ 121, 4250],\n",
              "       [ 121, 4250],\n",
              "       [ 121, 4250],\n",
              "       [ 182, 5400],\n",
              "       [ 182, 5400],\n",
              "       [ 182, 5400],\n",
              "       [  48, 5100],\n",
              "       [  70, 5400],\n",
              "       [  70, 5400],\n",
              "       [  68, 5500],\n",
              "       [  68, 5500],\n",
              "       [ 102, 5500],\n",
              "       [  68, 5500],\n",
              "       [  68, 5500],\n",
              "       [  68, 5500],\n",
              "       [ 102, 5500],\n",
              "       [  88, 5000],\n",
              "       [ 145, 5000],\n",
              "       [  58, 4800],\n",
              "       [  76, 6000],\n",
              "       [  60, 5500],\n",
              "       [  76, 6000],\n",
              "       [  76, 6000],\n",
              "       [  76, 6000],\n",
              "       [  76, 6000],\n",
              "       [  86, 5800],\n",
              "       [  86, 5800],\n",
              "       [  86, 5800],\n",
              "       [  86, 5800],\n",
              "       [ 101, 5800],\n",
              "       [ 100, 5500],\n",
              "       [  78, 4800],\n",
              "       [  70, 5400],\n",
              "       [  70, 5400],\n",
              "       [  90, 5000],\n",
              "       [ 176, 4750],\n",
              "       [ 176, 4750],\n",
              "       [ 262, 5000],\n",
              "       [  68, 5000],\n",
              "       [  68, 5000],\n",
              "       [  68, 5000],\n",
              "       [  68, 5000],\n",
              "       [  68, 5000],\n",
              "       [ 101, 6000],\n",
              "       [ 101, 6000],\n",
              "       [ 101, 6000],\n",
              "       [ 135, 6000],\n",
              "       [  84, 4800],\n",
              "       [  84, 4800],\n",
              "       [  84, 4800],\n",
              "       [  84, 4800],\n",
              "       [  64, 4650],\n",
              "       [  84, 4800],\n",
              "       [ 120, 5000],\n",
              "       [  72, 4200],\n",
              "       [ 123, 4350],\n",
              "       [ 123, 4350],\n",
              "       [ 123, 4350],\n",
              "       [ 123, 4350],\n",
              "       [ 155, 4750],\n",
              "       [ 155, 4750],\n",
              "       [ 184, 4500],\n",
              "       [ 184, 4500],\n",
              "       [ 175, 5000],\n",
              "       [  68, 5500],\n",
              "       [  68, 5500],\n",
              "       [  68, 5500],\n",
              "       [ 102, 5500],\n",
              "       [ 116, 5500],\n",
              "       [  88, 5000],\n",
              "       [ 145, 5000],\n",
              "       [ 145, 5000],\n",
              "       [ 145, 5000],\n",
              "       [  88, 5000],\n",
              "       [  88, 5000],\n",
              "       [ 116, 5500],\n",
              "       [ 116, 5500],\n",
              "       [  69, 5200],\n",
              "       [  55, 4800],\n",
              "       [  69, 5200],\n",
              "       [  69, 5200],\n",
              "       [  69, 5200],\n",
              "       [  69, 5200],\n",
              "       [  69, 5200],\n",
              "       [  69, 5200],\n",
              "       [  69, 5200],\n",
              "       [  69, 5200],\n",
              "       [  97, 5200],\n",
              "       [  97, 5200],\n",
              "       [ 152, 5200],\n",
              "       [ 152, 5200],\n",
              "       [ 152, 5200],\n",
              "       [ 160, 5200],\n",
              "       [ 200, 5200],\n",
              "       [ 160, 5200],\n",
              "       [  97, 5000],\n",
              "       [  95, 4150],\n",
              "       [  97, 5000],\n",
              "       [  95, 4150],\n",
              "       [  95, 5000],\n",
              "       [  95, 4150],\n",
              "       [  95, 5000],\n",
              "       [  95, 4150],\n",
              "       [  97, 5000],\n",
              "       [  95, 4150],\n",
              "       [ 142, 5600],\n",
              "       [  68, 5500],\n",
              "       [ 102, 5500],\n",
              "       [  68, 5500],\n",
              "       [  68, 5500],\n",
              "       [  68, 5500],\n",
              "       [  88, 5000],\n",
              "       [ 145, 5000],\n",
              "       [ 143, 5500],\n",
              "       [ 207, 5900],\n",
              "       [ 207, 5900],\n",
              "       [ 207, 5900],\n",
              "       [ 288, 5750],\n",
              "       [  90, 5100],\n",
              "       [  90, 5100],\n",
              "       [ 110, 5250],\n",
              "       [ 110, 5250],\n",
              "       [ 110, 5250],\n",
              "       [ 110, 5250],\n",
              "       [ 160, 5500],\n",
              "       [ 160, 5500],\n",
              "       [  69, 4900],\n",
              "       [  73, 4400],\n",
              "       [  73, 4400],\n",
              "       [  82, 4800],\n",
              "       [  82, 4400],\n",
              "       [  94, 5200],\n",
              "       [  82, 4800],\n",
              "       [ 111, 4800],\n",
              "       [  82, 4800],\n",
              "       [  94, 5200],\n",
              "       [  82, 4800],\n",
              "       [ 111, 4800],\n",
              "       [  62, 4800],\n",
              "       [  62, 4800],\n",
              "       [  62, 4800],\n",
              "       [  62, 4800],\n",
              "       [  62, 4800],\n",
              "       [  62, 4800],\n",
              "       [  70, 4800],\n",
              "       [  70, 4800],\n",
              "       [  56, 4500],\n",
              "       [  56, 4500],\n",
              "       [  70, 4800],\n",
              "       [  70, 4800],\n",
              "       [  70, 4800],\n",
              "       [  70, 4800],\n",
              "       [  70, 4800],\n",
              "       [ 112, 6600],\n",
              "       [ 112, 6600],\n",
              "       [ 116, 4800],\n",
              "       [ 116, 4800],\n",
              "       [ 116, 4800],\n",
              "       [ 116, 4800],\n",
              "       [ 116, 4800],\n",
              "       [ 116, 4800],\n",
              "       [  92, 4200],\n",
              "       [  73, 4500],\n",
              "       [  92, 4200],\n",
              "       [  92, 4200],\n",
              "       [  92, 4200],\n",
              "       [ 161, 5200],\n",
              "       [ 161, 5200],\n",
              "       [ 156, 5200],\n",
              "       [ 156, 5200],\n",
              "       [  52, 4800],\n",
              "       [  85, 5250],\n",
              "       [  52, 4800],\n",
              "       [  85, 5250],\n",
              "       [  85, 5250],\n",
              "       [  68, 4500],\n",
              "       [ 100, 5500],\n",
              "       [  90, 5500],\n",
              "       [  90, 5500],\n",
              "       [ 110, 5500],\n",
              "       [  68, 4500],\n",
              "       [  88, 5500],\n",
              "       [ 114, 5400],\n",
              "       [ 114, 5400],\n",
              "       [ 114, 5400],\n",
              "       [ 114, 5400],\n",
              "       [ 162, 5100],\n",
              "       [ 162, 5100],\n",
              "       [ 114, 5400],\n",
              "       [ 160, 5300],\n",
              "       [ 134, 5500],\n",
              "       [ 106, 4800],\n",
              "       [ 114, 5400]])"
            ]
          },
          "metadata": {},
          "execution_count": 24
        }
      ]
    },
    {
      "cell_type": "code",
      "source": [
        "#visualization\n",
        "import matplotlib.pyplot as plt\n",
        "plt.scatter(df['horsepower'],df['peakrpm'])"
      ],
      "metadata": {
        "colab": {
          "base_uri": "https://localhost:8080/",
          "height": 282
        },
        "id": "RU5l1G5vcG5L",
        "outputId": "2565e52b-9020-41c5-fe51-be44df3f9a42"
      },
      "execution_count": null,
      "outputs": [
        {
          "output_type": "execute_result",
          "data": {
            "text/plain": [
              "<matplotlib.collections.PathCollection at 0x7fd71dd8e910>"
            ]
          },
          "metadata": {},
          "execution_count": 26
        },
        {
          "output_type": "display_data",
          "data": {
            "text/plain": [
              "<Figure size 432x288 with 1 Axes>"
            ],
            "image/png": "[encoded data removed]"
          },
          "metadata": {
            "needs_background": "light"
          }
        }
      ]
    },
    {
      "cell_type": "code",
      "source": [
        "#no.of clusters\n",
        "import numpy as np\n",
        "np.sqrt(205)\n",
        "#no.of clusters-k\n",
        "#k value should not exceed sqrt of total no.of pts"
      ],
      "metadata": {
        "colab": {
          "base_uri": "https://localhost:8080/"
        },
        "id": "z5HOnT_seUTv",
        "outputId": "4bf2cf65-a9e3-4b64-95d2-ccacfa8acb7f"
      },
      "execution_count": null,
      "outputs": [
        {
          "output_type": "execute_result",
          "data": {
            "text/plain": [
              "14.317821063276353"
            ]
          },
          "metadata": {},
          "execution_count": 27
        }
      ]
    },
    {
      "cell_type": "code",
      "source": [
        "#find no.of clusters"
      ],
      "metadata": {
        "id": "ZkmxMZQ-fKA-"
      },
      "execution_count": null,
      "outputs": []
    },
    {
      "cell_type": "code",
      "source": [
        "#1.elbow method"
      ],
      "metadata": {
        "id": "uUx3Xu9afRLC"
      },
      "execution_count": null,
      "outputs": []
    },
    {
      "cell_type": "code",
      "source": [
        "from sklearn.cluster import KMeans\n",
        "k = range(2,15)\n",
        "\n",
        "sse= []\n",
        "\n",
        "#for i in range(2,15):\n",
        "for i in k :\n",
        "   model_demo = KMeans(n_clusters = i,random_state = 0)\n",
        "   model_demo.fit(x)\n",
        "   sse.append(model_demo.inertia_)\n",
        "plt.scatter(k,sse)\n",
        "plt.plot(k,sse)   "
      ],
      "metadata": {
        "colab": {
          "base_uri": "https://localhost:8080/",
          "height": 293
        },
        "id": "bBS_wYJgfXdV",
        "outputId": "2d443bd6-a9fa-4fc1-b94e-fdacdae88484"
      },
      "execution_count": null,
      "outputs": [
        {
          "output_type": "execute_result",
          "data": {
            "text/plain": [
              "[<matplotlib.lines.Line2D at 0x7fd71dcff0d0>]"
            ]
          },
          "metadata": {},
          "execution_count": 28
        },
        {
          "output_type": "display_data",
          "data": {
            "text/plain": [
              "<Figure size 432x288 with 1 Axes>"
            ],
            "image/png": "[encoded data removed]"
          },
          "metadata": {
            "needs_background": "light"
          }
        }
      ]
    },
    {
      "cell_type": "code",
      "source": [
        "#consider the pt at which elbow is prominent\n",
        "#consider k as 7"
      ],
      "metadata": {
        "id": "z_UU8YgWhmYG"
      },
      "execution_count": null,
      "outputs": []
    },
    {
      "cell_type": "code",
      "source": [
        "#2.silhouette score method\n",
        "from sklearn.metrics import silhouette_score\n",
        "k = range(2,15)\n",
        "for i in k:\n",
        "  model_demo = KMeans(n_clusters = i,random_state = 0)\n",
        "  model_demo.fit(x)\n",
        "  y_pred = model_demo.predict(x)\n",
        "  print(f\"{i} Clusters ,score = {silhouette_score(x,y_pred)}\")\n",
        "  plt.bar(i,silhouette_score(x,y_pred))\n"
      ],
      "metadata": {
        "colab": {
          "base_uri": "https://localhost:8080/",
          "height": 491
        },
        "id": "1yw7owm4iILe",
        "outputId": "47746b2c-7ad5-40ae-938d-a0950ac4e137"
      },
      "execution_count": null,
      "outputs": [
        {
          "output_type": "stream",
          "name": "stdout",
          "text": [
            "2 Clusters ,score = 0.5705564431532869\n",
            "3 Clusters ,score = 0.5862572502249903\n",
            "4 Clusters ,score = 0.6292356570460004\n",
            "5 Clusters ,score = 0.6467176989501637\n",
            "6 Clusters ,score = 0.665139678082853\n",
            "7 Clusters ,score = 0.7082941923387437\n",
            "8 Clusters ,score = 0.7149321369340395\n",
            "9 Clusters ,score = 0.7153160301699574\n",
            "10 Clusters ,score = 0.6926944199814069\n",
            "11 Clusters ,score = 0.6931183618112017\n",
            "12 Clusters ,score = 0.70665058059299\n",
            "13 Clusters ,score = 0.6871054674121367\n",
            "14 Clusters ,score = 0.6707135440282893\n"
          ]
        },
        {
          "output_type": "display_data",
          "data": {
            "text/plain": [
              "<Figure size 432x288 with 1 Axes>"
            ],
            "image/png": "[encoded data removed]"
          },
          "metadata": {
            "needs_background": "light"
          }
        }
      ]
    },
    {
      "cell_type": "code",
      "source": [
        "#confirmation:no.of clusters is 9"
      ],
      "metadata": {
        "id": "WudwhJ5Wj-k_"
      },
      "execution_count": null,
      "outputs": []
    },
    {
      "cell_type": "code",
      "source": [
        "#7.apply clusterer\n",
        "k = 9\n",
        "from sklearn.cluster import KMeans\n",
        "\n",
        "model = KMeans(n_clusters = k,random_state=0)\n",
        "model.fit(x)"
      ],
      "metadata": {
        "colab": {
          "base_uri": "https://localhost:8080/"
        },
        "id": "AmidpnSbkLxr",
        "outputId": "4564d8e4-a35e-49c0-d193-233dd3535676"
      },
      "execution_count": null,
      "outputs": [
        {
          "output_type": "execute_result",
          "data": {
            "text/plain": [
              "KMeans(n_clusters=9, random_state=0)"
            ]
          },
          "metadata": {},
          "execution_count": 31
        }
      ]
    },
    {
      "cell_type": "code",
      "source": [
        "y = model.predict(x)\n",
        "y"
      ],
      "metadata": {
        "colab": {
          "base_uri": "https://localhost:8080/"
        },
        "id": "LLQPAwySkbWF",
        "outputId": "27131036-a159-4301-f5d0-f7cc75b8a25c"
      },
      "execution_count": null,
      "outputs": [
        {
          "output_type": "execute_result",
          "data": {
            "text/plain": [
              "array([5, 5, 5, 4, 4, 4, 4, 4, 4, 4, 8, 8, 3, 3, 3, 4, 4, 4, 5, 4, 4, 4,\n",
              "       4, 4, 4, 4, 4, 4, 5, 5, 1, 2, 4, 2, 2, 2, 2, 8, 8, 8, 8, 8, 4, 1,\n",
              "       4, 4, 5, 1, 1, 5, 5, 5, 5, 5, 5, 2, 2, 2, 2, 1, 1, 1, 1, 1, 1, 5,\n",
              "       3, 6, 6, 6, 6, 1, 1, 6, 6, 5, 4, 4, 4, 4, 4, 5, 5, 5, 5, 5, 5, 4,\n",
              "       4, 0, 1, 0, 0, 0, 0, 0, 0, 0, 0, 0, 0, 0, 0, 0, 0, 0, 0, 5, 3, 5,\n",
              "       3, 5, 3, 5, 3, 5, 3, 4, 4, 4, 4, 4, 4, 5, 5, 4, 8, 8, 8, 8, 5, 5,\n",
              "       0, 0, 0, 0, 4, 4, 1, 6, 6, 1, 6, 0, 1, 1, 1, 0, 1, 1, 1, 1, 1, 1,\n",
              "       1, 1, 1, 1, 6, 6, 1, 1, 1, 1, 1, 7, 7, 1, 1, 1, 1, 1, 1, 3, 6, 3,\n",
              "       3, 3, 0, 0, 0, 0, 1, 0, 1, 0, 0, 6, 4, 4, 4, 4, 6, 4, 4, 4, 4, 4,\n",
              "       5, 5, 4, 0, 4, 1, 4], dtype=int32)"
            ]
          },
          "metadata": {},
          "execution_count": 32
        }
      ]
    },
    {
      "cell_type": "code",
      "source": [
        "y.size"
      ],
      "metadata": {
        "colab": {
          "base_uri": "https://localhost:8080/"
        },
        "id": "80HHHQwemYET",
        "outputId": "04573056-64ed-497e-82f4-2ddb092c02e5"
      },
      "execution_count": null,
      "outputs": [
        {
          "output_type": "execute_result",
          "data": {
            "text/plain": [
              "205"
            ]
          },
          "metadata": {},
          "execution_count": 33
        }
      ]
    },
    {
      "cell_type": "code",
      "source": [
        "x[y ==1,1]\n",
        "#value of input when cluster 1 is selected and column index 1"
      ],
      "metadata": {
        "colab": {
          "base_uri": "https://localhost:8080/"
        },
        "id": "iyIMdX1cmkVG",
        "outputId": "929889d8-face-4b16-b954-855d1253be3a"
      },
      "execution_count": null,
      "outputs": [
        {
          "output_type": "execute_result",
          "data": {
            "text/plain": [
              "array([4800, 4800, 4750, 4750, 4800, 4800, 4800, 4800, 4650, 4800, 4750,\n",
              "       4750, 4800, 4900, 4800, 4800, 4800, 4800, 4800, 4800, 4800, 4800,\n",
              "       4800, 4800, 4800, 4800, 4800, 4800, 4800, 4800, 4800, 4800, 4800,\n",
              "       4800, 4800, 4800, 4800, 4800, 4800, 4800, 4800, 4800])"
            ]
          },
          "metadata": {},
          "execution_count": 34
        }
      ]
    },
    {
      "cell_type": "code",
      "source": [
        "np.unique(y,return_counts = True)"
      ],
      "metadata": {
        "colab": {
          "base_uri": "https://localhost:8080/"
        },
        "id": "AzxKGYggnJaI",
        "outputId": "c3d45bc6-e4d4-4920-ce30-f71a5496dc15"
      },
      "execution_count": null,
      "outputs": [
        {
          "output_type": "execute_result",
          "data": {
            "text/plain": [
              "(array([0, 1, 2, 3, 4, 5, 6, 7, 8], dtype=int32),\n",
              " array([31, 42,  9, 13, 51, 32, 14,  2, 11]))"
            ]
          },
          "metadata": {},
          "execution_count": 35
        }
      ]
    },
    {
      "cell_type": "code",
      "source": [
        "#final visualization\n",
        "plt.figure(figsize = (15,9))\n",
        "for i in range(k):\n",
        "  plt.scatter(x[y == i,0],x[y == i,1],label = f'Cluster{i}')\n",
        "plt.scatter(model.cluster_centers_[:,0],model.cluster_centers_[:,1],s = 500,c = 'yellow',label = 'centroids')\n",
        "plt.legend()  \n"
      ],
      "metadata": {
        "colab": {
          "base_uri": "https://localhost:8080/",
          "height": 554
        },
        "id": "4crUR-bTnWQa",
        "outputId": "c7ae7f7b-c83a-480a-a9de-1c4fc170090c"
      },
      "execution_count": null,
      "outputs": [
        {
          "output_type": "execute_result",
          "data": {
            "text/plain": [
              "<matplotlib.legend.Legend at 0x7fd71d7a44d0>"
            ]
          },
          "metadata": {},
          "execution_count": 44
        },
        {
          "output_type": "display_data",
          "data": {
            "text/plain": [
              "<Figure size 1080x648 with 1 Axes>"
            ],
            "image/png": "[encoded data removed]"
          },
          "metadata": {
            "needs_background": "light"
          }
        }
      ]
    }
  ]
}